{
 "cells": [
  {
   "cell_type": "markdown",
   "id": "e959be67",
   "metadata": {},
   "source": [
    "# Text classification\n",
    "\n",
    "**Supervised learning: classification**"
   ]
  },
  {
   "cell_type": "markdown",
   "id": "57b9f441",
   "metadata": {},
   "source": [
    "**Abstract:** Classifying text, e.g. assigning a topic to a text or document, is one of the canonical examples of problems we try to solve with machine learning. This notebook demonstrates a simple example where, after training a classification algorithm with a bunch of text examples and topic labels, we use it to tell us the topic of any previously unseen text."
   ]
  },
  {
   "cell_type": "markdown",
   "id": "b7de226b",
   "metadata": {},
   "source": [
    "**Topics covevered:** multinomial naive Bayes, Bayes Theorem, feature engineering, term frequency–inverse document frequency (TF–IDF), stopwords, sparse matrices, confusion matrix."
   ]
  },
  {
   "cell_type": "markdown",
   "id": "c30d91b0",
   "metadata": {},
   "source": [
    "**Motivation.** Solving such a text classification problem can be extremely useful. Say, right now your digital customer care team is swamped with comments being left on your website. You want to be able to tell the relevant comments from the irrelevant ones, and you want to know what they are about. Are they complaints about servicing times? Is a critical point in the purchase flow of the site suddenly broken? Are they about a particular aspect of a rather complex product? You want to do this classification fast and at scale. Enter machine learning."
   ]
  },
  {
   "cell_type": "markdown",
   "id": "9e391c60",
   "metadata": {},
   "source": [
    "**A word on naive Bayes.** As given away in the name, naive Bayes (NB) relies on Bayes' Theorem. Given some examples the goal is to predict the probability of a label. Say we want to decide between two labels, let's call them $L_0$ and $L_1$. For that we observe some features $(x_0, x_1, \\dots, x_p) \\equiv X$. In order to decide what example has what label, we can compute the ratio of the posterior probabilities \n",
    "\n",
    "$$\n",
    "\\frac{P\\left(L_0 | X\\right)}{P\\left(L_1 | X\\right)}\n",
    "=\n",
    "\\frac{P\\left(X | L_0\\right)P\\left(L_0\\right)}{P\\left(X | L_1\\right)P\\left(L_1\\right)}\n",
    ".\n",
    "$$\n",
    "\n",
    "This provides us with a measure of the uncertainty attached to every label-assignment decision we make.\n",
    "\n",
    "The group of NB classification models are _generative_, meaning they try to specify the (hypothetical) distribution of each underlying class. The 'naive' part comes from the fact that we make very loose assumptions about the process that generated the data. Multinomial NB for one, assumes the data we observe was generated from a simple, run-of-the-mill multinomial distribution. NB algorithms are simple, fast and very effective when working with high-dimensional data."
   ]
  },
  {
   "cell_type": "markdown",
   "id": "af6c6358",
   "metadata": {},
   "source": [
    "**Setup & data.**"
   ]
  },
  {
   "cell_type": "code",
   "execution_count": 1,
   "id": "4478fecc",
   "metadata": {},
   "outputs": [
    {
     "name": "stderr",
     "output_type": "stream",
     "text": [
      "[nltk_data] Downloading package stopwords to /Users/dnl/nltk_data...\n",
      "[nltk_data]   Package stopwords is already up-to-date!\n"
     ]
    }
   ],
   "source": [
    "import numpy as np\n",
    "import pandas as pd\n",
    "import matplotlib.pyplot as plt\n",
    "import seaborn as sns; sns.set()\n",
    "from sklearn.feature_extraction.text import CountVectorizer, TfidfVectorizer\n",
    "from sklearn.naive_bayes import MultinomialNB\n",
    "from sklearn.pipeline import make_pipeline\n",
    "from sklearn.metrics import confusion_matrix\n",
    "from sklearn.metrics import classification_report\n",
    "from sklearn.metrics import accuracy_score\n",
    "import nltk\n",
    "nltk.download('stopwords')\n",
    "from nltk.corpus import stopwords\n",
    "%matplotlib inline"
   ]
  },
  {
   "cell_type": "code",
   "execution_count": 2,
   "id": "21d08136",
   "metadata": {},
   "outputs": [],
   "source": [
    "# Fetch data\n",
    "from sklearn.datasets import fetch_20newsgroups\n",
    "data = fetch_20newsgroups()\n",
    "# Load training and test sets\n",
    "train = fetch_20newsgroups(subset='train', categories=data.target_names)\n",
    "test = fetch_20newsgroups(subset='test', categories=data.target_names)"
   ]
  },
  {
   "cell_type": "markdown",
   "id": "48937d3a",
   "metadata": {},
   "source": [
    "In this notebook we use the '20 newsgroups' dataset from `sklearn`. The data comprises around 18,000 newsgroups posts on 20 topics ranging from computer graphics, motorcycles to gun politics and religion."
   ]
  },
  {
   "cell_type": "code",
   "execution_count": 3,
   "id": "73d91d5c",
   "metadata": {},
   "outputs": [
    {
     "name": "stdout",
     "output_type": "stream",
     "text": [
      "Number of topics: 20\n"
     ]
    },
    {
     "data": {
      "text/plain": [
       "['alt.atheism',\n",
       " 'comp.graphics',\n",
       " 'comp.os.ms-windows.misc',\n",
       " 'comp.sys.ibm.pc.hardware',\n",
       " 'comp.sys.mac.hardware',\n",
       " 'comp.windows.x',\n",
       " 'misc.forsale',\n",
       " 'rec.autos',\n",
       " 'rec.motorcycles',\n",
       " 'rec.sport.baseball',\n",
       " 'rec.sport.hockey',\n",
       " 'sci.crypt',\n",
       " 'sci.electronics',\n",
       " 'sci.med',\n",
       " 'sci.space',\n",
       " 'soc.religion.christian',\n",
       " 'talk.politics.guns',\n",
       " 'talk.politics.mideast',\n",
       " 'talk.politics.misc',\n",
       " 'talk.religion.misc']"
      ]
     },
     "execution_count": 3,
     "metadata": {},
     "output_type": "execute_result"
    }
   ],
   "source": [
    "print('Number of topics:', len(data.target_names))\n",
    "# Display labels\n",
    "data.target_names"
   ]
  },
  {
   "cell_type": "markdown",
   "id": "cf9a9ed9",
   "metadata": {},
   "source": [
    "Let's look at some excerpts:"
   ]
  },
  {
   "cell_type": "code",
   "execution_count": 4,
   "id": "acd616db",
   "metadata": {},
   "outputs": [
    {
     "name": "stdout",
     "output_type": "stream",
     "text": [
      "Topic: rec.motorcycles \n",
      "       --------------- \n",
      "\n",
      "From: gunning@cco.caltech.edu (Kevin J. Gunning)\n",
      "Subject: stolen CBR900RR\n",
      "Organization: California Institute of Technology, Pasadena\n",
      "Lines: 12\n",
      "Distribution: usa\n",
      "NNTP-Posting-Host: alumni.caltech.edu\n",
      "Summary: see above\n",
      "\n",
      "Stolen from Pasadena between 4:30 and 6:30 pm on 4/15.\n",
      "\n",
      "Blue and white Honda CBR900RR california plate KG CBR.   Serial number\n",
      "JH2SC281XPM100187, engine number 2101240.\n",
      "\n",
      "No turn signals or mirrors, lights taped over for track riders session\n",
      "at Willow Springs tomorrow.  Guess I'll miss it.  :-(((\n",
      "\n",
      "Help me find my baby!!!\n",
      "\n",
      "kjg\n",
      "\n",
      "\n",
      "======================================== \n",
      "\n",
      "Topic: sci.med \n",
      "       ------- \n",
      "\n",
      "From: jim.zisfein@factory.com (Jim Zisfein) \n",
      "Subject: Re: Migraines and scans\n",
      "Distribution: world\n",
      "Organization: Invention Factory's BBS - New York City, NY - 212-274-8298v.32bis\n",
      "Reply-To: jim.zisfein@factory.com (Jim Zisfein) \n",
      "Lines: 37\n",
      "\n",
      "DN> From: nyeda@cnsvax.uwec.edu (David Nye)\n",
      "DN> A neurology\n",
      "DN> consultation is cheaper than a scan.\n",
      "\n",
      "And also better, because a neurologist can make a differential\n",
      "diagnosis between migraine, tension-type headache, cluster, benign\n",
      "intracranial hypertension, chronic paroxysmal hemicrania, and other\n",
      "headache syndromes that all appear normal on a scan.  A neurologist\n",
      "can also recommend a course of treatment that is appropriate to the\n",
      "diagnosis.\n",
      "\n",
      "DN> >>Also, since many people are convinced they have brain tumors or other\n",
      "DN> >>serious pathology, it may be cheaper to just get a CT scan then have\n",
      "DN> >>them come into the ER every few weeks.\n",
      "DN> And easier than taking the time to reassure the patient, right?\n",
      "DN> Personally, I don't think this can ever be justified.\n",
      "\n",
      "Sigh.  It may never be justifiable, but I sometimes do it.  Even\n",
      "after I try to show thoroughness with a detailed history, neurologic\n",
      "examination, and discussion with the patient about my diagnosis,\n",
      "salted with lots of reassurance, patients still ask \"why can't you\n",
      "order a scan, so we can be absolutely sure?\"  Aunt Millie often gets\n",
      "into the conversation, as in \"they ignored Aunt Millie's headaches\n",
      "for years\", and then she died of a brain tumor, aneurysm, or\n",
      "whatever.  If you can get away without ever ordering imaging for a\n",
      "patient with an obviously benign headache syndrome, I'd like to hear\n",
      "what your magic is.\n",
      "\n",
      "Every once in a while I am able to bypass imaging by getting an EEG.\n",
      "Mind you, I don't think EEG is terribly sensitive for brain tumor,\n",
      "but the patient feels like \"something is being done\" (as if the\n",
      "hours I spent talking with and examining the patient were\n",
      "\"nothing\"), the EEG has no ionizing radiation, it's *much* cheaper\n",
      "than CT or MRI, and the EEG brings in some money to my department.\n",
      "---\n",
      " . SLMR 2.1 . E-mail: jim.zisfein@factory.com (Jim Zisfein)\n",
      "                                                                         \n",
      "\n"
     ]
    }
   ],
   "source": [
    "print('Topic:', train.target_names[train.target[-1]], \n",
    "      '\\n', '     ', '-'*len(train.target_names[train.target[-1]]), '\\n')\n",
    "print(train.data[-1])\n",
    "print('='*40, '\\n')\n",
    "print('Topic:', train.target_names[train.target[-5]], \n",
    "      '\\n', '     ', '-'*len(train.target_names[train.target[-5]]), '\\n')\n",
    "print(train.data[-5])"
   ]
  },
  {
   "cell_type": "markdown",
   "id": "0b834b18",
   "metadata": {},
   "source": [
    "**Feature engineering.** Before we can have the computer work with the data we need to convert the text in the posts into a numerical representation. This process is known as feature engineering. We take whatever information we have and turn it into numbers; often a real-valued vector or matrix. This way we extract the relevant features so we can feed them to our algorithm. \n",
    "\n",
    "A good starting point for converting text into a set of representative numerical values would be, for instance, to simply count the frequency of each word in the text. This would leave us with a matrix where each row represents a post and each column represents a word. The matrix entries represent the word counts. So each time a word appears in a post we add one to the respective row and column. As you can imagine, most of the entries in this matrix would be 0 or 'empty', for that reason it is not a dense matrix but a sparse one.\n",
    "\n",
    "A simple example should develop our intuition. Let's assume we have the following three posts. We can quickly visualize the resulting sparse matrix of the word counts with off-the-shelf tools."
   ]
  },
  {
   "cell_type": "code",
   "execution_count": 5,
   "id": "3a238252",
   "metadata": {},
   "outputs": [],
   "source": [
    "samples = ['you have to peel the onion',\n",
    "           'one day I am going to make an onion cry',\n",
    "           'an onion a day keeps everyone away']"
   ]
  },
  {
   "cell_type": "code",
   "execution_count": 6,
   "id": "435fe1ea",
   "metadata": {},
   "outputs": [
    {
     "data": {
      "text/plain": [
       "<matplotlib.lines.Line2D at 0x7faa13f26ee0>"
      ]
     },
     "execution_count": 6,
     "metadata": {},
     "output_type": "execute_result"
    },
    {
     "data": {
      "image/png": "[encoded data removed]",
      "text/plain": [
       "<Figure size 432x288 with 1 Axes>"
      ]
     },
     "metadata": {
      "needs_background": "light"
     },
     "output_type": "display_data"
    }
   ],
   "source": [
    "# Compute sparse matrix with raw counts\n",
    "v = CountVectorizer()\n",
    "S = v.fit_transform(samples)\n",
    "# Viz\n",
    "plt.spy(S)"
   ]
  },
  {
   "cell_type": "code",
   "execution_count": 7,
   "id": "14760075",
   "metadata": {},
   "outputs": [
    {
     "data": {
      "text/html": [
       "<div>\n",
       "<style scoped>\n",
       "    .dataframe tbody tr th:only-of-type {\n",
       "        vertical-align: middle;\n",
       "    }\n",
       "\n",
       "    .dataframe tbody tr th {\n",
       "        vertical-align: top;\n",
       "    }\n",
       "\n",
       "    .dataframe thead th {\n",
       "        text-align: right;\n",
       "    }\n",
       "</style>\n",
       "<table border=\"1\" class=\"dataframe\">\n",
       "  <thead>\n",
       "    <tr style=\"text-align: right;\">\n",
       "      <th></th>\n",
       "      <th>am</th>\n",
       "      <th>an</th>\n",
       "      <th>away</th>\n",
       "      <th>cry</th>\n",
       "      <th>day</th>\n",
       "      <th>everyone</th>\n",
       "      <th>going</th>\n",
       "      <th>have</th>\n",
       "      <th>keeps</th>\n",
       "      <th>make</th>\n",
       "      <th>one</th>\n",
       "      <th>onion</th>\n",
       "      <th>peel</th>\n",
       "      <th>the</th>\n",
       "      <th>to</th>\n",
       "      <th>you</th>\n",
       "    </tr>\n",
       "  </thead>\n",
       "  <tbody>\n",
       "    <tr>\n",
       "      <th>0</th>\n",
       "      <td>0</td>\n",
       "      <td>0</td>\n",
       "      <td>0</td>\n",
       "      <td>0</td>\n",
       "      <td>0</td>\n",
       "      <td>0</td>\n",
       "      <td>0</td>\n",
       "      <td>1</td>\n",
       "      <td>0</td>\n",
       "      <td>0</td>\n",
       "      <td>0</td>\n",
       "      <td>1</td>\n",
       "      <td>1</td>\n",
       "      <td>1</td>\n",
       "      <td>1</td>\n",
       "      <td>1</td>\n",
       "    </tr>\n",
       "    <tr>\n",
       "      <th>1</th>\n",
       "      <td>1</td>\n",
       "      <td>1</td>\n",
       "      <td>0</td>\n",
       "      <td>1</td>\n",
       "      <td>1</td>\n",
       "      <td>0</td>\n",
       "      <td>1</td>\n",
       "      <td>0</td>\n",
       "      <td>0</td>\n",
       "      <td>1</td>\n",
       "      <td>1</td>\n",
       "      <td>1</td>\n",
       "      <td>0</td>\n",
       "      <td>0</td>\n",
       "      <td>1</td>\n",
       "      <td>0</td>\n",
       "    </tr>\n",
       "    <tr>\n",
       "      <th>2</th>\n",
       "      <td>0</td>\n",
       "      <td>1</td>\n",
       "      <td>1</td>\n",
       "      <td>0</td>\n",
       "      <td>1</td>\n",
       "      <td>1</td>\n",
       "      <td>0</td>\n",
       "      <td>0</td>\n",
       "      <td>1</td>\n",
       "      <td>0</td>\n",
       "      <td>0</td>\n",
       "      <td>1</td>\n",
       "      <td>0</td>\n",
       "      <td>0</td>\n",
       "      <td>0</td>\n",
       "      <td>0</td>\n",
       "    </tr>\n",
       "  </tbody>\n",
       "</table>\n",
       "</div>"
      ],
      "text/plain": [
       "   am  an  away  cry  day  everyone  going  have  keeps  make  one  onion  \\\n",
       "0   0   0     0    0    0         0      0     1      0     0    0      1   \n",
       "1   1   1     0    1    1         0      1     0      0     1    1      1   \n",
       "2   0   1     1    0    1         1      0     0      1     0    0      1   \n",
       "\n",
       "   peel  the  to  you  \n",
       "0     1    1   1    1  \n",
       "1     0    0   1    0  \n",
       "2     0    0   0    0  "
      ]
     },
     "metadata": {},
     "output_type": "display_data"
    }
   ],
   "source": [
    "# Or as a table\n",
    "tab = pd.DataFrame(S.toarray(), columns=v.get_feature_names())\n",
    "pd.options.display.float_format = \"{:,.1f}\".format\n",
    "display(tab)"
   ]
  },
  {
   "cell_type": "markdown",
   "id": "d85e80cf",
   "metadata": {},
   "source": [
    "Already we can see that there are some issues with this approach. For one, we count all words irrespective of how meaningful they are. For another, we assign weight to words only by their raw count. Take 'am', 'an', 'one' or 'to' for instance. These appear equally frequently or even more frequently than actual keywords. So by keeping these 'useless' words on and giving them equal or more weight than to actual useful words we end up with a lot of meaningless features in our data. And this only makes finding interesting patterns harder."
   ]
  },
  {
   "cell_type": "markdown",
   "id": "d224d862",
   "metadata": {},
   "source": [
    "**A quick fix.** We can easily tackle both of these issues, though. First, we can remove those words that occur frequently but do not carry substantive meaning. These are known as _stopwords_. Removing stopwords is a common text-preprocessing step. We can get a comprehensive list of stopwords from the `nltk` module."
   ]
  },
  {
   "cell_type": "code",
   "execution_count": 8,
   "id": "7ed2e9b3",
   "metadata": {},
   "outputs": [
    {
     "name": "stdout",
     "output_type": "stream",
     "text": [
      "['shouldn', \"shouldn't\", 'wasn', \"wasn't\", 'weren', \"weren't\", 'won', \"won't\", 'wouldn', \"wouldn't\"]\n"
     ]
    }
   ],
   "source": [
    "# Load English stopwords\n",
    "stpw = stopwords.words('english')\n",
    "# Display a few\n",
    "print(stpw[-10:])"
   ]
  },
  {
   "cell_type": "markdown",
   "id": "2270678d",
   "metadata": {},
   "source": [
    "Second, we can calibrate the weights by how often words appear in all posts. This approach is known as term frequency–inverse document frequency (TF–IDF). The function `TfidfVectorizer` from `sklearn` has a built-in parameter that let's us parse stopwords as a list of strings."
   ]
  },
  {
   "cell_type": "code",
   "execution_count": 9,
   "id": "6c7cac15",
   "metadata": {},
   "outputs": [
    {
     "data": {
      "text/plain": [
       "<matplotlib.lines.Line2D at 0x7faa1516cd60>"
      ]
     },
     "execution_count": 9,
     "metadata": {},
     "output_type": "execute_result"
    },
    {
     "data": {
      "image/png": "[encoded data removed]",
      "text/plain": [
       "<Figure size 432x288 with 1 Axes>"
      ]
     },
     "metadata": {
      "needs_background": "light"
     },
     "output_type": "display_data"
    }
   ],
   "source": [
    "# Compute sparse matrix with raw counts\n",
    "v = TfidfVectorizer(stop_words=stpw)\n",
    "S = v.fit_transform(samples)\n",
    "# Viz\n",
    "plt.spy(S)"
   ]
  },
  {
   "cell_type": "code",
   "execution_count": 10,
   "id": "c6ef1a22",
   "metadata": {},
   "outputs": [
    {
     "data": {
      "text/html": [
       "<div>\n",
       "<style scoped>\n",
       "    .dataframe tbody tr th:only-of-type {\n",
       "        vertical-align: middle;\n",
       "    }\n",
       "\n",
       "    .dataframe tbody tr th {\n",
       "        vertical-align: top;\n",
       "    }\n",
       "\n",
       "    .dataframe thead th {\n",
       "        text-align: right;\n",
       "    }\n",
       "</style>\n",
       "<table border=\"1\" class=\"dataframe\">\n",
       "  <thead>\n",
       "    <tr style=\"text-align: right;\">\n",
       "      <th></th>\n",
       "      <th>onion</th>\n",
       "      <th>cry</th>\n",
       "      <th>make</th>\n",
       "      <th>one</th>\n",
       "      <th>peel</th>\n",
       "      <th>keeps</th>\n",
       "      <th>day</th>\n",
       "      <th>away</th>\n",
       "      <th>everyone</th>\n",
       "      <th>going</th>\n",
       "    </tr>\n",
       "  </thead>\n",
       "  <tbody>\n",
       "    <tr>\n",
       "      <th>0</th>\n",
       "      <td>0.5</td>\n",
       "      <td>0.0</td>\n",
       "      <td>0.0</td>\n",
       "      <td>0.0</td>\n",
       "      <td>0.9</td>\n",
       "      <td>0.0</td>\n",
       "      <td>0.0</td>\n",
       "      <td>0.0</td>\n",
       "      <td>0.0</td>\n",
       "      <td>0.0</td>\n",
       "    </tr>\n",
       "    <tr>\n",
       "      <th>1</th>\n",
       "      <td>0.3</td>\n",
       "      <td>0.5</td>\n",
       "      <td>0.5</td>\n",
       "      <td>0.5</td>\n",
       "      <td>0.0</td>\n",
       "      <td>0.0</td>\n",
       "      <td>0.3</td>\n",
       "      <td>0.0</td>\n",
       "      <td>0.0</td>\n",
       "      <td>0.5</td>\n",
       "    </tr>\n",
       "    <tr>\n",
       "      <th>2</th>\n",
       "      <td>0.3</td>\n",
       "      <td>0.0</td>\n",
       "      <td>0.0</td>\n",
       "      <td>0.0</td>\n",
       "      <td>0.0</td>\n",
       "      <td>0.5</td>\n",
       "      <td>0.4</td>\n",
       "      <td>0.5</td>\n",
       "      <td>0.5</td>\n",
       "      <td>0.0</td>\n",
       "    </tr>\n",
       "  </tbody>\n",
       "</table>\n",
       "</div>"
      ],
      "text/plain": [
       "   onion  cry  make  one  peel  keeps  day  away  everyone  going\n",
       "0    0.5  0.0   0.0  0.0   0.9    0.0  0.0   0.0       0.0    0.0\n",
       "1    0.3  0.5   0.5  0.5   0.0    0.0  0.3   0.0       0.0    0.5\n",
       "2    0.3  0.0   0.0  0.0   0.0    0.5  0.4   0.5       0.5    0.0"
      ]
     },
     "metadata": {},
     "output_type": "display_data"
    }
   ],
   "source": [
    "tab = pd.DataFrame(S.toarray(), columns=v.get_feature_names())\n",
    "keywords = list(({w for w in tab.columns if w not in stpw}))\n",
    "pd.options.display.float_format = \"{:,.1f}\".format\n",
    "display(tab[keywords])"
   ]
  },
  {
   "cell_type": "markdown",
   "id": "6d17bb41",
   "metadata": {},
   "source": [
    "This sparse matrix is now a good numerical representation of the important words in our posts. We will use it to train our multinomial NB algorithm."
   ]
  },
  {
   "cell_type": "markdown",
   "id": "6c36b9a3",
   "metadata": {},
   "source": [
    "**Train model & make prediction on test set.**"
   ]
  },
  {
   "cell_type": "code",
   "execution_count": 11,
   "id": "7d4c88ff",
   "metadata": {},
   "outputs": [],
   "source": [
    "# Build model\n",
    "mnb = make_pipeline(TfidfVectorizer(stop_words=stpw), \n",
    "                    MultinomialNB())"
   ]
  },
  {
   "cell_type": "code",
   "execution_count": 12,
   "id": "9a47af3e",
   "metadata": {},
   "outputs": [],
   "source": [
    "# Train with training set\n",
    "mnb.fit(train.data, train.target)\n",
    "# Predict on test set\n",
    "labels = mnb.predict(test.data)"
   ]
  },
  {
   "cell_type": "markdown",
   "id": "1a9a88d3",
   "metadata": {},
   "source": [
    "As we can see at this point, a huge advantage of using a 'naive' model is that we don't need to bother with choosing and fine-tuning hyperparameters. So no need to do any cross-validation, grid searches or the likes. Let's see how well the multinomial NB model does in correctly telling the topic of a previously unseen text. For that we'll construct a confusion matrix."
   ]
  },
  {
   "cell_type": "markdown",
   "id": "6607a444",
   "metadata": {},
   "source": [
    "**Confusion matrix.**"
   ]
  },
  {
   "cell_type": "code",
   "execution_count": 13,
   "id": "b71d1ada",
   "metadata": {},
   "outputs": [
    {
     "data": {
      "text/plain": [
       "Text(0.5, 1.0, 'Confusion Matrix')"
      ]
     },
     "execution_count": 13,
     "metadata": {},
     "output_type": "execute_result"
    },
    {
     "data": {
      "image/png": "[encoded data removed]",
      "text/plain": [
       "<Figure size 864x864 with 1 Axes>"
      ]
     },
     "metadata": {
      "needs_background": "light"
     },
     "output_type": "display_data"
    }
   ],
   "source": [
    "# Compute CM\n",
    "cm = confusion_matrix(test.target, labels)\n",
    "# Plot\n",
    "plt.subplots(figsize=(12, 12))\n",
    "sns.heatmap(cm.T, square=True, annot=True, cmap='YlGnBu', fmt='d', cbar=False,\n",
    "            xticklabels=train.target_names, yticklabels=train.target_names)\n",
    "plt.xlabel('True Label')\n",
    "plt.ylabel('Predicted Label')\n",
    "plt.title('Confusion Matrix')"
   ]
  },
  {
   "cell_type": "code",
   "execution_count": 14,
   "id": "ad76cd08",
   "metadata": {},
   "outputs": [
    {
     "name": "stdout",
     "output_type": "stream",
     "text": [
      "Overall accuracy of multinomial NB model: 80.96%\n"
     ]
    }
   ],
   "source": [
    "# Compute accuracy score\n",
    "print('Overall accuracy of multinomial NB model: {:2.2%}'.format(accuracy_score(test.target, labels)))"
   ]
  },
  {
   "cell_type": "markdown",
   "id": "8e688b0f",
   "metadata": {},
   "source": [
    "We see that a naive algorithm such as this does very well in telling the topic of new posts. 81% of the time it will be correct! It does seem, however, to have a hard time separating atheist posts from christian ones, or general politics from gun chatter. It also confuses religious text with Christian and atheist texts. These confusions stem from the fact that many words appear with similar frequency in these topics so that the computer cannot really tell them apart."
   ]
  },
  {
   "cell_type": "markdown",
   "id": "b9a5f91b",
   "metadata": {},
   "source": [
    "**What now?** The cool thing now that we have a pretty accurate predictive model to classify text, is that we get to play around with it! :) \n",
    "\n",
    "In an image classification setting it would be more cumbersome to provide the model with new images that are outside the test set. But with text classification, well, we can always write something semi-coherent with a topic in mind and see if the trained algorithm guesses it. And if you can't come up with anything yourself, well, there's always Google.\n",
    "\n",
    "Let's first create a helper function to ease things along. Then some obvious examples below. If you are running this notebook live, you can type in whatever comes to your mind."
   ]
  },
  {
   "cell_type": "code",
   "execution_count": 15,
   "id": "b48357f4",
   "metadata": {},
   "outputs": [],
   "source": [
    "def guess_topic(s):\n",
    "    probs = mnb.predict_proba([s])[0]\n",
    "    top3 = np.argsort(probs)[:-4:-1]\n",
    "    r_0 = '1st guess is {} with {:2.2%} certainty.'.format(train.target_names[top3[0]], \n",
    "                                                            probs[top3[0]])\n",
    "    r_1 = '2nd guess is {} with {:2.2%} certainty.'.format(train.target_names[top3[1]], \n",
    "                                                            probs[top3[1]])\n",
    "    r_2 = '3rd guess is {} with {:2.2%} certainty.'.format(train.target_names[top3[2]], \n",
    "                                                            probs[top3[2]])\n",
    "    print(r_0 + '\\n' + r_1 + '\\n' + r_2)"
   ]
  },
  {
   "cell_type": "code",
   "execution_count": 16,
   "id": "d86e4b8f",
   "metadata": {},
   "outputs": [
    {
     "name": "stdout",
     "output_type": "stream",
     "text": [
      "1st guess is comp.os.ms-windows.misc with 11.04% certainty.\n",
      "2nd guess is comp.sys.mac.hardware with 10.36% certainty.\n",
      "3rd guess is comp.graphics with 9.33% certainty.\n"
     ]
    }
   ],
   "source": [
    "guess_topic('I think my screen is broken. The resolution is all off.')"
   ]
  },
  {
   "cell_type": "code",
   "execution_count": 17,
   "id": "05ed4116",
   "metadata": {},
   "outputs": [
    {
     "name": "stdout",
     "output_type": "stream",
     "text": [
      "1st guess is rec.motorcycles with 40.91% certainty.\n",
      "2nd guess is rec.autos with 4.81% certainty.\n",
      "3rd guess is talk.politics.guns with 4.40% certainty.\n"
     ]
    }
   ],
   "source": [
    "guess_topic('Is you Harley just outside? Can we go for a ride?')"
   ]
  },
  {
   "cell_type": "code",
   "execution_count": 18,
   "id": "0a763fd7",
   "metadata": {},
   "outputs": [
    {
     "name": "stdout",
     "output_type": "stream",
     "text": [
      "1st guess is talk.politics.guns with 16.89% certainty.\n",
      "2nd guess is talk.politics.mideast with 10.62% certainty.\n",
      "3rd guess is talk.politics.misc with 7.38% certainty.\n"
     ]
    }
   ],
   "source": [
    "guess_topic('American Epidemic: One Nation Under Fire')"
   ]
  },
  {
   "cell_type": "code",
   "execution_count": 19,
   "id": "6cc07ccf",
   "metadata": {},
   "outputs": [
    {
     "name": "stdout",
     "output_type": "stream",
     "text": [
      "1st guess is rec.sport.baseball with 8.33% certainty.\n",
      "2nd guess is rec.sport.hockey with 6.38% certainty.\n",
      "3rd guess is sci.med with 6.21% certainty.\n"
     ]
    }
   ],
   "source": [
    "guess_topic('The Perseid meteor shower is often considered one of the best meteor showers of the year.')"
   ]
  },
  {
   "cell_type": "markdown",
   "id": "df1c6feb",
   "metadata": {},
   "source": [
    "The first three guesses were spot on! The last one not so much. But alas, the algorithm is correct 81% of the time. It's bound not to get all guesses right."
   ]
  }
 ],
 "metadata": {
  "kernelspec": {
   "display_name": "Python 3",
   "language": "python",
   "name": "python3"
  },
  "language_info": {
   "codemirror_mode": {
    "name": "ipython",
    "version": 3
   },
   "file_extension": ".py",
   "mimetype": "text/x-python",
   "name": "python",
   "nbconvert_exporter": "python",
   "pygments_lexer": "ipython3",
   "version": "3.9.2"
  }
 },
 "nbformat": 4,
 "nbformat_minor": 5
}
