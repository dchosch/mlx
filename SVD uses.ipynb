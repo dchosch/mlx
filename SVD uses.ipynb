{
 "cells": [
  {
   "cell_type": "markdown",
   "id": "3bf29dc0",
   "metadata": {},
   "source": [
    "# Some uses for SVD\n",
    "\n",
    "**Unsupervised learning: dimensionality reduction**"
   ]
  },
  {
   "cell_type": "markdown",
   "id": "08442f0a",
   "metadata": {},
   "source": [
    "**Abstract:** Singular value decomposition (SVD) is referred to by many as kind of a linear algebra \"Swiss army knife\". The motivation for this notebook is to show that SVD can in fact find versitile applications in analytics. This notebook gives a short overview of what SVD is and demonstrates two uses for it, namely (1) solving the einproblem that comes with PCA and, (2) compressing, say, images. Be warned, the PCA part includes some mathematical explanations to connect some dots. If math notation doesn't really rock your boat, feel free to skip that part."
   ]
  },
  {
   "cell_type": "markdown",
   "id": "3aec2c6f",
   "metadata": {},
   "source": [
    "**Topics covered:** singular value decomp (SVD), principal component analysis (PCA), compression."
   ]
  },
  {
   "cell_type": "markdown",
   "id": "6d706b93",
   "metadata": {},
   "source": [
    "**So, what's SVD?** We can rewrite any real or complex matrix into the factor of three components. These components together is what we refer to as the _singular value_ of the matrix in question.\n",
    "\n",
    "Take for instance the real-valued matrix $X \\in \\mathbb{R}^{n \\times p}$ with $n$ rows and $p$ columns. Let $s$ be the smaller of two numbers, i.e. $s = \\min(n, p)$. The SVD of $X$ is the factorization \n",
    "\n",
    "$$\n",
    "X = U \\cdot \\Sigma \\cdot V^T\n",
    "$$\n",
    "\n",
    "where $U \\in \\mathbb{R}^{n \\times s}$, $\\Sigma \\in \\mathbb{R}^{s \\times s}$, and $V^T \\in \\mathbb{R}^{s \\times p}$.\n",
    "\n",
    "Let's unpack these three components."
   ]
  },
  {
   "cell_type": "markdown",
   "id": "6ae7f8f6",
   "metadata": {},
   "source": [
    "$U$ and $V$ are both unitary matrices, meaning that their transpose are also their inverse. In other words, $U^T U = I$ and $V^T V = I$ where $I$ is the identity matrix. \n",
    "\n",
    "The columns of $U$ are known as the _left singular vectors_ and the rows of $V^T$ as the _right singular vectors_ of $X$. If we denote these vectors by $u_i$ and $v_i$, then\n",
    "\n",
    "$$\n",
    "\\begin{array}{rcl}\n",
    "  U & = & \\begin{bmatrix} u_0 & u_1 & \\cdots & u_{s-1} \\end{bmatrix} \\\\\n",
    "  V^T & = & \\begin{bmatrix} v_0 & v_1 & \\cdots & v_{s-1} \\end{bmatrix}^T.\n",
    "\\end{array}\n",
    "$$"
   ]
  },
  {
   "cell_type": "markdown",
   "id": "2911433e",
   "metadata": {},
   "source": [
    "$\\Sigma$ is a diagonal matrix. Its diagonal entries are, collectively, called the _singular values_ of $X$, and are sorted from highest to lowest, i.e. $\\sigma_0 >= \\sigma_1 >= .... >= \\sigma_{s-1}$\n",
    "\n",
    "$$\n",
    "\\begin{equation}\n",
    "\\Sigma =\n",
    "\\begin{bmatrix}\n",
    "  \\sigma_0 &          &        & \\\\\n",
    "           & \\sigma_1 &        & \\\\\n",
    "           &          & \\ddots & \\\\\n",
    "           &          &        & \\sigma_{s-1}\n",
    "\\end{bmatrix}\n",
    "\\end{equation}.\n",
    "$$"
   ]
  },
  {
   "cell_type": "markdown",
   "id": "ab4226c4",
   "metadata": {},
   "source": [
    "**Aha, so what?** From these definitions we imply that \n",
    "\n",
    "$$\n",
    "X V = U \\Sigma.\n",
    "$$\n",
    "\n",
    "This is a compact way of writing a system of independent vector equations, namely\n",
    "\n",
    "$$\n",
    "\\begin{array}{rcl}\n",
    "  X v_i & = & \\sigma_i u_i.\n",
    "\\end{array}\n",
    "$$\n",
    "\n",
    "It kind of looks like an eigenproblem already, doesn't it?"
   ]
  },
  {
   "cell_type": "markdown",
   "id": "99eb3946",
   "metadata": {},
   "source": [
    "**And... what's it good for?** Well: dimensionality reduction! We can use SVD to come up with a smaller representation of $X$ that still preserves its \"mass\". Two cool applications for it are:\n",
    "\n",
    "* We can use the rows of $V^T$ (the right singular vectors) as a solution to the eigenproblem that comes with PCA.\n",
    "* We can use the entries of $\\Sigma$ (the singular values) for compressing, say, images. This provides us with a way of measuring the relative reconstruction error compared to the original image.\n",
    "\n",
    "We'll demonstrate these two applications next."
   ]
  },
  {
   "cell_type": "markdown",
   "id": "5840a278",
   "metadata": {},
   "source": [
    "# Demo No. 1: PCA\n",
    "\n",
    "Principal component analysis lets us come up with a lower-dimensional, but equally informative representation of the data. Essentially we transform the data into orthogonal dimensions ranking them by variance. This is useful for visualization and discovering hidden structures in the data. Here an attempt to prove why we can use the rows of $V^T$ as the principal components (PCs)."
   ]
  },
  {
   "cell_type": "markdown",
   "id": "cf2a0baa",
   "metadata": {},
   "source": [
    "(If you don't want to get into any \"nasty\" math, start to skip here)."
   ]
  },
  {
   "cell_type": "markdown",
   "id": "9adfa913",
   "metadata": {},
   "source": [
    "In PCA we want to find the projection-maximizing set of axes. This computation can be reduced to an eigenproblem. We can use SVD to find the eigenpair(s) that solve the PCA eigenproblem.\n",
    "\n",
    "The PCA cost function is\n",
    "\n",
    "$$\n",
    "\\begin{array}{rcl}\n",
    "  \\underset{\\varphi, \\lambda}{\\arg\\max} \\, \\hat{F}(\\varphi, \\lambda)\n",
    "  = F(\\varphi) + \\frac{\\lambda}{2} (1 - \\varphi^T \\varphi)\n",
    "\\end{array}\n",
    "$$\n",
    "\n",
    "and $\\varphi$ is the unit-length vector we use to project the centered data $X$. Computing the partial derivatives and solving this Lagrange objective function for $(\\varphi^*, \\lambda^*)$ yields\n",
    "\n",
    "$$\n",
    "\\begin{array}{rcl}\n",
    "  \\frac{1}{m} X^T X \\varphi & = & \\lambda \\varphi \\\\\n",
    "  \\| \\varphi \\|_2^2 & = & 1.\n",
    "\\end{array}\n",
    "$$\n",
    "\n",
    "Note that $\\frac{1}{m} X^T X$ is nothing but the sample covariance matrix."
   ]
  },
  {
   "cell_type": "markdown",
   "id": "007e9f2a",
   "metadata": {},
   "source": [
    "If we insert the SVD into the first equation above, we end up with something really neat, namely\n",
    "\n",
    "$$\n",
    "X^T X V = V \\Sigma^2,\n",
    "$$\n",
    "\n",
    "or, as a system of vector equations,\n",
    "\n",
    "$$\n",
    "\\begin{array}{rcl}\n",
    "  X^T X v_i & = & \\sigma_i^2 v_i.\n",
    "\\end{array}\n",
    "$$\n",
    "\n",
    "As we can see, $v_i$ is the eigenvector of the covariance matrix of $X$ and $\\sigma_i^2$ its eigenvalue. And every eigenpair $(v_i, \\sigma_i^2)$ is a solution to the eigenproblem. The pair with the largest eigenvalue is $(v_0, \\sigma_0^2)$, i.e. the first row of $V^T$ and the first entry of $\\Sigma$."
   ]
  },
  {
   "cell_type": "markdown",
   "id": "19380518",
   "metadata": {},
   "source": [
    "(If you skipped, let's reconvene here)."
   ]
  },
  {
   "cell_type": "markdown",
   "id": "1f014813",
   "metadata": {},
   "source": [
    "**In a nutshell.** The right singular vectors $v_0, v_1, \\ldots, v_{s-1}$, the rows of $V^T$, are the PCs! Say we want to use the first $k$ PCs, we simply take the first $k$ rows of $V^T$."
   ]
  },
  {
   "cell_type": "markdown",
   "id": "c2a81bb3",
   "metadata": {},
   "source": [
    "Let's see how this looks in practice. We take an example from this cool blog http://setosa.io/ev/principal-component-analysis/ which provides a visual motivation for PCA using some \"old\" data from a nutrition study done in the UK. For more details on the data and the analysis just go to this site!"
   ]
  },
  {
   "cell_type": "markdown",
   "id": "c1c856dd",
   "metadata": {},
   "source": [
    "**Imports.**"
   ]
  },
  {
   "cell_type": "code",
   "execution_count": 1,
   "id": "7af4130a",
   "metadata": {},
   "outputs": [],
   "source": [
    "import numpy as np\n",
    "from numpy.linalg import svd\n",
    "import pandas as pd\n",
    "import seaborn as sns\n",
    "import matplotlib.pyplot as plt\n",
    "%matplotlib inline"
   ]
  },
  {
   "cell_type": "markdown",
   "id": "8c0b2ff7",
   "metadata": {},
   "source": [
    "**Load data & visualize.**"
   ]
  },
  {
   "cell_type": "code",
   "execution_count": 2,
   "id": "30f49c3c",
   "metadata": {},
   "outputs": [
    {
     "name": "stdout",
     "output_type": "stream",
     "text": [
      "DataFrame with 17 rows x 5 columns:\n"
     ]
    },
    {
     "data": {
      "text/html": [
       "<div>\n",
       "<style scoped>\n",
       "    .dataframe tbody tr th:only-of-type {\n",
       "        vertical-align: middle;\n",
       "    }\n",
       "\n",
       "    .dataframe tbody tr th {\n",
       "        vertical-align: top;\n",
       "    }\n",
       "\n",
       "    .dataframe thead th {\n",
       "        text-align: right;\n",
       "    }\n",
       "</style>\n",
       "<table border=\"1\" class=\"dataframe\">\n",
       "  <thead>\n",
       "    <tr style=\"text-align: right;\">\n",
       "      <th></th>\n",
       "      <th>Product</th>\n",
       "      <th>England</th>\n",
       "      <th>Northern Ireland</th>\n",
       "      <th>Scotland</th>\n",
       "      <th>Wales</th>\n",
       "    </tr>\n",
       "  </thead>\n",
       "  <tbody>\n",
       "    <tr>\n",
       "      <th>0</th>\n",
       "      <td>Alcoholic drinks</td>\n",
       "      <td>375</td>\n",
       "      <td>135</td>\n",
       "      <td>458</td>\n",
       "      <td>475</td>\n",
       "    </tr>\n",
       "    <tr>\n",
       "      <th>1</th>\n",
       "      <td>Beverages</td>\n",
       "      <td>57</td>\n",
       "      <td>47</td>\n",
       "      <td>53</td>\n",
       "      <td>73</td>\n",
       "    </tr>\n",
       "    <tr>\n",
       "      <th>2</th>\n",
       "      <td>Meat</td>\n",
       "      <td>245</td>\n",
       "      <td>267</td>\n",
       "      <td>242</td>\n",
       "      <td>227</td>\n",
       "    </tr>\n",
       "    <tr>\n",
       "      <th>3</th>\n",
       "      <td>Cereals</td>\n",
       "      <td>1472</td>\n",
       "      <td>1494</td>\n",
       "      <td>1462</td>\n",
       "      <td>1582</td>\n",
       "    </tr>\n",
       "    <tr>\n",
       "      <th>4</th>\n",
       "      <td>Cheese</td>\n",
       "      <td>105</td>\n",
       "      <td>66</td>\n",
       "      <td>103</td>\n",
       "      <td>103</td>\n",
       "    </tr>\n",
       "    <tr>\n",
       "      <th>5</th>\n",
       "      <td>Sweets</td>\n",
       "      <td>54</td>\n",
       "      <td>41</td>\n",
       "      <td>62</td>\n",
       "      <td>64</td>\n",
       "    </tr>\n",
       "    <tr>\n",
       "      <th>6</th>\n",
       "      <td>Fats and oils</td>\n",
       "      <td>193</td>\n",
       "      <td>209</td>\n",
       "      <td>184</td>\n",
       "      <td>235</td>\n",
       "    </tr>\n",
       "    <tr>\n",
       "      <th>7</th>\n",
       "      <td>Fish</td>\n",
       "      <td>147</td>\n",
       "      <td>93</td>\n",
       "      <td>122</td>\n",
       "      <td>160</td>\n",
       "    </tr>\n",
       "    <tr>\n",
       "      <th>8</th>\n",
       "      <td>Fresh fruit</td>\n",
       "      <td>1102</td>\n",
       "      <td>674</td>\n",
       "      <td>957</td>\n",
       "      <td>1137</td>\n",
       "    </tr>\n",
       "    <tr>\n",
       "      <th>9</th>\n",
       "      <td>Fresh potatoes</td>\n",
       "      <td>720</td>\n",
       "      <td>1033</td>\n",
       "      <td>566</td>\n",
       "      <td>874</td>\n",
       "    </tr>\n",
       "    <tr>\n",
       "      <th>10</th>\n",
       "      <td>Fresh veggies</td>\n",
       "      <td>253</td>\n",
       "      <td>143</td>\n",
       "      <td>171</td>\n",
       "      <td>265</td>\n",
       "    </tr>\n",
       "    <tr>\n",
       "      <th>11</th>\n",
       "      <td>Other meat</td>\n",
       "      <td>685</td>\n",
       "      <td>586</td>\n",
       "      <td>750</td>\n",
       "      <td>803</td>\n",
       "    </tr>\n",
       "    <tr>\n",
       "      <th>12</th>\n",
       "      <td>Other veggies</td>\n",
       "      <td>488</td>\n",
       "      <td>355</td>\n",
       "      <td>418</td>\n",
       "      <td>570</td>\n",
       "    </tr>\n",
       "    <tr>\n",
       "      <th>13</th>\n",
       "      <td>Processed potatoes</td>\n",
       "      <td>198</td>\n",
       "      <td>187</td>\n",
       "      <td>220</td>\n",
       "      <td>203</td>\n",
       "    </tr>\n",
       "    <tr>\n",
       "      <th>14</th>\n",
       "      <td>Processed veggies</td>\n",
       "      <td>360</td>\n",
       "      <td>334</td>\n",
       "      <td>337</td>\n",
       "      <td>365</td>\n",
       "    </tr>\n",
       "    <tr>\n",
       "      <th>15</th>\n",
       "      <td>Soft drinks</td>\n",
       "      <td>1374</td>\n",
       "      <td>1506</td>\n",
       "      <td>1572</td>\n",
       "      <td>1256</td>\n",
       "    </tr>\n",
       "    <tr>\n",
       "      <th>16</th>\n",
       "      <td>Sugars</td>\n",
       "      <td>156</td>\n",
       "      <td>139</td>\n",
       "      <td>147</td>\n",
       "      <td>175</td>\n",
       "    </tr>\n",
       "  </tbody>\n",
       "</table>\n",
       "</div>"
      ],
      "text/plain": [
       "               Product  England  Northern Ireland  Scotland  Wales\n",
       "0     Alcoholic drinks      375               135       458    475\n",
       "1            Beverages       57                47        53     73\n",
       "2                 Meat      245               267       242    227\n",
       "3              Cereals     1472              1494      1462   1582\n",
       "4               Cheese      105                66       103    103\n",
       "5               Sweets       54                41        62     64\n",
       "6        Fats and oils      193               209       184    235\n",
       "7                 Fish      147                93       122    160\n",
       "8          Fresh fruit     1102               674       957   1137\n",
       "9       Fresh potatoes      720              1033       566    874\n",
       "10       Fresh veggies      253               143       171    265\n",
       "11          Other meat      685               586       750    803\n",
       "12       Other veggies      488               355       418    570\n",
       "13  Processed potatoes      198               187       220    203\n",
       "14   Processed veggies      360               334       337    365\n",
       "15         Soft drinks     1374              1506      1572   1256\n",
       "16              Sugars      156               139       147    175"
      ]
     },
     "metadata": {},
     "output_type": "display_data"
    }
   ],
   "source": [
    "df = pd.read_csv('data/uk-nutrition-data.csv')\n",
    "print('DataFrame with {} rows x {} columns:'.format(df.shape[0], df.shape[1]))\n",
    "display(df)"
   ]
  },
  {
   "cell_type": "code",
   "execution_count": 3,
   "id": "c4d27d54",
   "metadata": {},
   "outputs": [
    {
     "data": {
      "text/plain": [
       "Text(0.5, 0.98, 'Grams per Week per Person')"
      ]
     },
     "execution_count": 3,
     "metadata": {},
     "output_type": "execute_result"
    },
    {
     "data": {
      "image/png": "[encoded data removed]",
      "text/plain": [
       "<Figure size 864x432 with 4 Axes>"
      ]
     },
     "metadata": {
      "needs_background": "light"
     },
     "output_type": "display_data"
    }
   ],
   "source": [
    "prods = df['Product']\n",
    "ctries = df.columns.difference(['Product'])\n",
    "\n",
    "fig, ax = plt.subplots(1, 4, figsize=(12, 6), sharey=True)\n",
    "for i in range(len(ctries)):\n",
    "    sns.barplot(x=ctries[i], y='Product', data=df, ax=ax[i])\n",
    "    ax[i].set_ylabel('')\n",
    "fig.suptitle('Grams per Week per Person')"
   ]
  },
  {
   "cell_type": "markdown",
   "id": "4d69e770",
   "metadata": {},
   "source": [
    "Can you spot the differences between the four countries? If you stare at this graph long enough, well... you'll go crazy. :) Instead we can work with a lower-dimensional representation of this data, say 2 PCs instead of 17 features, and see if that helps."
   ]
  },
  {
   "cell_type": "markdown",
   "id": "591afc71",
   "metadata": {},
   "source": [
    "**Compute the SVD of X.**"
   ]
  },
  {
   "cell_type": "code",
   "execution_count": 4,
   "id": "e1d0255c",
   "metadata": {},
   "outputs": [
    {
     "name": "stdout",
     "output_type": "stream",
     "text": [
      "X: (4, 17)\n",
      "s: 4\n"
     ]
    }
   ],
   "source": [
    "# Extract numpy ndarray from DataFrame\n",
    "X_raw = df[ctries].values.T # n=4, p=17\n",
    "# Center the data\n",
    "X = X_raw - np.mean(X_raw, axis=0)\n",
    "n, p = X.shape\n",
    "print('X:', X.shape)\n",
    "# Compute s\n",
    "s = min(X.shape[0], X.shape[1])\n",
    "print('s:', s)"
   ]
  },
  {
   "cell_type": "code",
   "execution_count": 5,
   "id": "1de310c6",
   "metadata": {},
   "outputs": [
    {
     "name": "stdout",
     "output_type": "stream",
     "text": [
      "U: (4, 4)\n",
      "Sigma: (4,)\n",
      "VT: (4, 17)\n"
     ]
    }
   ],
   "source": [
    "# Compute SVD\n",
    "U, S, VT = svd(X, full_matrices=False)\n",
    "# Inspect SVD components\n",
    "print('U:', U.shape)\n",
    "print('Sigma:', S.shape)\n",
    "print('VT:', VT.shape)"
   ]
  },
  {
   "cell_type": "markdown",
   "id": "a65f673c",
   "metadata": {},
   "source": [
    "**Compute & plot first two right singular vectors.** As discussed above, we take the first two rows of $V^T$ here, as these are the first two PCs. As simple as that."
   ]
  },
  {
   "cell_type": "code",
   "execution_count": 6,
   "id": "05dbe17f",
   "metadata": {},
   "outputs": [
    {
     "name": "stdout",
     "output_type": "stream",
     "text": [
      "0th right singular vector: \n",
      " [-0.46396817 -0.02618776  0.04792763 -0.04770286 -0.05695538 -0.0296502\n",
      " -0.00519362 -0.08441498 -0.6326409   0.40140206 -0.15184994 -0.25891666\n",
      " -0.24359373 -0.02688623 -0.03648827  0.23224414 -0.03762098] \n",
      "\n",
      "1st right singular vector: \n",
      " [-0.11353652  0.03056054 -0.01391582  0.21259968 -0.01601285 -0.00594992\n",
      "  0.09538866  0.05075495  0.17774074  0.71501708  0.14490027  0.01533114\n",
      "  0.22545092 -0.04285076  0.0454518  -0.55512431  0.0430217 ]\n"
     ]
    }
   ],
   "source": [
    "# Extract first two singular vectors\n",
    "v_0 = VT[0, :].T\n",
    "v_1 = VT[1, :].T\n",
    "v_s = [v_0, v_1]\n",
    "print('0th right singular vector:', '\\n', v_0, '\\n')\n",
    "print('1st right singular vector:', '\\n', v_1)"
   ]
  },
  {
   "cell_type": "markdown",
   "id": "3cec98ed",
   "metadata": {},
   "source": [
    "Each right singular vector is of length $p=17$. Each entry in each vector $v_k$ tells us the magnitude each product has on that axis. We can inspect the absolute numbers to see which products have the greatest magnitude."
   ]
  },
  {
   "cell_type": "code",
   "execution_count": 7,
   "id": "c72645fa",
   "metadata": {},
   "outputs": [
    {
     "data": {
      "image/png": "[encoded data removed]",
      "text/plain": [
       "<Figure size 936x360 with 2 Axes>"
      ]
     },
     "metadata": {
      "needs_background": "light"
     },
     "output_type": "display_data"
    }
   ],
   "source": [
    "# Plot\n",
    "fig, ax = plt.subplots(1, 2, figsize=(13,5), sharey=True, sharex=True)\n",
    "for i in range(2):\n",
    "    ax[i].bar(np.arange(v_s[i].shape[0]), height=np.absolute(v_s[i]), color='c')\n",
    "    ax[i].set_xticks(range(len(prods)))\n",
    "    ax[i].set_title(f'v_{i}')"
   ]
  },
  {
   "cell_type": "markdown",
   "id": "d140c7d5",
   "metadata": {},
   "source": [
    "In case of $v_0$ the 0th, 8th and 9th entries carry the greatest magnitude. In case of $v_1$ it's the 9th and 15th entries. By looking back at the data we can tell which products these correspond to."
   ]
  },
  {
   "cell_type": "code",
   "execution_count": 8,
   "id": "ba1196c1",
   "metadata": {},
   "outputs": [
    {
     "name": "stdout",
     "output_type": "stream",
     "text": [
      "Entries in v_0 with the greatest magnitude:\n",
      "\n",
      "0    Alcoholic drinks\n",
      "8         Fresh fruit\n",
      "9      Fresh potatoes\n",
      "Name: Product, dtype: object /n\n",
      "\n",
      "Entries in v_1 with the greatest magnitude:\n",
      "\n",
      "9     Fresh potatoes\n",
      "15       Soft drinks\n",
      "Name: Product, dtype: object \n",
      "\n"
     ]
    }
   ],
   "source": [
    "print('Entries in v_0 with the greatest magnitude:\\n')\n",
    "print(prods[[0, 8, 9]], '/n')\n",
    "\n",
    "print('\\nEntries in v_1 with the greatest magnitude:\\n')\n",
    "print(prods[[9, 15]], '\\n')"
   ]
  },
  {
   "cell_type": "markdown",
   "id": "bfb12c0d",
   "metadata": {},
   "source": [
    "Finally, we can take the 17-dimensional data and project it onto the 2-dimensional subspace defined by the first two PCs."
   ]
  },
  {
   "cell_type": "code",
   "execution_count": 9,
   "id": "d5f0c04f",
   "metadata": {},
   "outputs": [
    {
     "data": {
      "text/plain": [
       "Text(0, 0.5, 'X projected onto v_1 (1st PC)')"
      ]
     },
     "execution_count": 9,
     "metadata": {},
     "output_type": "execute_result"
    },
    {
     "data": {
      "image/png": "[encoded data removed]",
      "text/plain": [
       "<Figure size 432x432 with 1 Axes>"
      ]
     },
     "metadata": {
      "needs_background": "light"
     },
     "output_type": "display_data"
    }
   ],
   "source": [
    "# Project into 2D\n",
    "X_proj = X.dot(VT[0:2, :].T)\n",
    "\n",
    "# Plot\n",
    "plt.figure(figsize=(6, 6))\n",
    "plt.scatter(X_proj[:, 0], X_proj[:, 1], color='c', s=200)\n",
    "for x_0, x_1, c in zip(X_proj[:, 0], X_proj[:, 1], ctries):\n",
    "    plt.annotate(c, xy=(x_0, x_1))\n",
    "plt.xlabel('X projected onto v_0 (0th PC)')\n",
    "plt.ylabel('X projected onto v_1 (1st PC)')"
   ]
  },
  {
   "cell_type": "markdown",
   "id": "e40565ae",
   "metadata": {},
   "source": [
    "**Outcome.** By plotting using the first two right singular vectors, ($v_0, v_1)$, we can see clearly that Northern Ireland is quite different from the other three countries in the UK."
   ]
  },
  {
   "cell_type": "markdown",
   "id": "873d29e9",
   "metadata": {},
   "source": [
    "# Demo No. 2: Image compression\n",
    "\n",
    "When we compress an image we end up with a lower-resolution equivalent of the original. If done well, i.e. with a low relative error, the compressed representation might be deceivingly hard to distinguish from the original - at least for the human eye. And, even though they are not identical, the low-resolution compression might be equally usable and, because it's considerably smaller, saves computational resources."
   ]
  },
  {
   "cell_type": "markdown",
   "id": "2b4a32d4",
   "metadata": {},
   "source": [
    "**Using SVD for compression.** If we represent an image as a real-valued matrix $X \\in \\mathbb{R}^{n \\times p}$, then we can approximate $X$ with its $k$-truncated SVD, i.e. $(U_k, \\Sigma_k, V_k^T)$ for $0<k<s$. Recall that $s = \\min(n, p)$. If the size of its representation, $\\tilde{X}$, is lower than the original, then we have compressed $X$."
   ]
  },
  {
   "cell_type": "markdown",
   "id": "ef60d5b7",
   "metadata": {},
   "source": [
    "The squared error of the compressed representation, measured in the Frobenius norm, is given by the sum of the trailing singular values, namely\n",
    "\n",
    "$$\n",
    "  \\|X - U_k \\Sigma_k V_k^T\\|_F^2 = \\sigma_{k}^2 + \\sigma_{k+1}^2 + \\cdots + \\sigma_{s-1}^2\n",
    "  .\n",
    "$$\n",
    "\n",
    "Consequently, the _relative_ error, can be measured as\n",
    "\n",
    "$$\n",
    "  \\dfrac{\\|X - U_k \\Sigma_k V_k^T\\|_F}\n",
    "        {\\|X\\|_F}\n",
    "        .\n",
    "$$\n",
    "\n",
    "$\\|X\\|_F$ is the Frobenius norm of $X$ which is given by the sum of all singular values; the diagonal entries of $\\Sigma$."
   ]
  },
  {
   "cell_type": "markdown",
   "id": "eca15bfb",
   "metadata": {},
   "source": [
    "**Display original image.** I took one image from today's \"NASA Image of the Day\" of a solar solar eclipse visible in Antarctica on Dec. 4, 2021. https://www.nasa.gov/multimedia/imagegallery/iotd.html"
   ]
  },
  {
   "cell_type": "code",
   "execution_count": null,
   "id": "3cdcc5e3",
   "metadata": {},
   "outputs": [],
   "source": [
    "from PIL import Image\n",
    "img_raw = Image.open('data/epic_1b_20211204075803.png', 'r').convert('L')\n",
    "img = np.asarray(img_raw)\n",
    "plt.figure(figsize=(6,6))\n",
    "plt.imshow(img, interpolation='nearest', cmap='gray')"
   ]
  },
  {
   "cell_type": "markdown",
   "id": "4f307e46",
   "metadata": {},
   "source": [
    "**Compress via SVD.** Say we want to compress using the 15 trailing singular values, i.e. $k=15$, then the relative reconstruction error is 16.4%."
   ]
  },
  {
   "cell_type": "code",
   "execution_count": null,
   "id": "51fb8861",
   "metadata": {},
   "outputs": [],
   "source": [
    "# Compute the SVD of the image\n",
    "U, S, VT = svd(img, full_matrices=False)"
   ]
  },
  {
   "cell_type": "code",
   "execution_count": null,
   "id": "7cccf5e1",
   "metadata": {},
   "outputs": [],
   "source": [
    "# Get the k-th truncation of U and VT\n",
    "k = 15\n",
    "Uk = U[:, :k]\n",
    "VkT = VT[:k, :]\n",
    "print('Uk:', Uk.shape)\n",
    "print('S:', S.shape)\n",
    "print('VkT:', VkT.shape)"
   ]
  },
  {
   "cell_type": "code",
   "execution_count": null,
   "id": "e7768b1f",
   "metadata": {},
   "outputs": [],
   "source": [
    "# Compute relative reconstruction error\n",
    "err = np.sqrt(np.sum(np.square(S[k:]))) # trailing k singular values\n",
    "norm = np.sqrt(np.sum(np.square(S)))\n",
    "rel_err = err / norm\n",
    "print('% .3f' % rel_err)"
   ]
  },
  {
   "cell_type": "markdown",
   "id": "dce095c9",
   "metadata": {},
   "source": [
    "**Viz original v compressed representation.**"
   ]
  },
  {
   "cell_type": "code",
   "execution_count": null,
   "id": "b4450ff8",
   "metadata": {},
   "outputs": [],
   "source": [
    "# Reconstruct compressed image\n",
    "img_comp = Uk @ np.diag(S[:k]) @ VkT # first k singular values"
   ]
  },
  {
   "cell_type": "code",
   "execution_count": null,
   "id": "573ad675",
   "metadata": {},
   "outputs": [],
   "source": [
    "fig, ax = plt.subplots(1, 2, figsize=(12, 6))\n",
    "ax[0].imshow(img, interpolation='nearest', cmap='gray')\n",
    "ax[0].set_title('Original')\n",
    "ax[1].imshow(img_comp, interpolation='nearest', cmap='gray')\n",
    "ax[1].set_title('Compressed Representation')"
   ]
  },
  {
   "cell_type": "markdown",
   "id": "d91a66e9",
   "metadata": {},
   "source": [
    "**Outcome.** Using the fifteen highest singular values, opposite to using all 2,048 of them, we lose only about 16% of the original image. Depending on the application we might want to go for a lower relative reconstruction error."
   ]
  }
 ],
 "metadata": {
  "kernelspec": {
   "display_name": "Python 3",
   "language": "python",
   "name": "python3"
  },
  "language_info": {
   "codemirror_mode": {
    "name": "ipython",
    "version": 3
   },
   "file_extension": ".py",
   "mimetype": "text/x-python",
   "name": "python",
   "nbconvert_exporter": "python",
   "pygments_lexer": "ipython3",
   "version": "3.9.2"
  }
 },
 "nbformat": 4,
 "nbformat_minor": 5
}
